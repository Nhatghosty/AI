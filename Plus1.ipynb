{
 "cells": [
  {
   "cell_type": "code",
   "execution_count": 14,
   "id": "f1223eec",
   "metadata": {},
   "outputs": [],
   "source": [
    "# Import necessary libraries\n",
    "import pandas as pd\n",
    "import numpy as np\n",
    "import matplotlib.pyplot as plt\n",
    "import seaborn as sns\n",
    "\n",
    "# Machine learning libraries\n",
    "from sklearn.model_selection import train_test_split, StratifiedKFold, cross_val_score, GridSearchCV\n",
    "from sklearn.preprocessing import StandardScaler\n",
    "from sklearn.impute import KNNImputer\n",
    "from sklearn.linear_model import LogisticRegression\n",
    "from sklearn.metrics import classification_report, confusion_matrix, accuracy_score, precision_score, recall_score, f1_score\n",
    "from imblearn.over_sampling import SMOTE\n",
    "from category_encoders import TargetEncoder\n",
    "from sklearn.pipeline import Pipeline\n",
    "from sklearn.compose import ColumnTransformer\n",
    "\n",
    "# CatBoost\n",
    "from catboost import CatBoostClassifier, Pool\n",
    "\n",
    "# SHAP for feature importance\n",
    "import shap\n",
    "\n",
    "# Suppress warnings for cleaner output\n",
    "import warnings\n",
    "warnings.filterwarnings('ignore')\n"
   ]
  },
  {
   "cell_type": "code",
   "execution_count": 15,
   "id": "f347c689",
   "metadata": {},
   "outputs": [
    {
     "name": "stdout",
     "output_type": "stream",
     "text": [
      "<class 'pandas.core.frame.DataFrame'>\n",
      "RangeIndex: 1320 entries, 0 to 1319\n",
      "Data columns (total 20 columns):\n",
      " #   Column                                    Non-Null Count  Dtype  \n",
      "---  ------                                    --------------  -----  \n",
      " 0   User ID                                   1320 non-null   object \n",
      " 1   Vehicle Model                             1320 non-null   object \n",
      " 2   Battery Capacity (kWh)                    1320 non-null   float64\n",
      " 3   Charging Station ID                       1320 non-null   object \n",
      " 4   Charging Station Location                 1320 non-null   object \n",
      " 5   Charging Start Time                       1320 non-null   object \n",
      " 6   Charging End Time                         1320 non-null   object \n",
      " 7   Energy Consumed (kWh)                     1254 non-null   float64\n",
      " 8   Charging Duration (hours)                 1320 non-null   float64\n",
      " 9   Charging Rate (kW)                        1254 non-null   float64\n",
      " 10  Charging Cost (USD)                       1320 non-null   float64\n",
      " 11  Time of Day                               1320 non-null   object \n",
      " 12  Day of Week                               1320 non-null   object \n",
      " 13  State of Charge (Start %)                 1320 non-null   float64\n",
      " 14  State of Charge (End %)                   1320 non-null   float64\n",
      " 15  Distance Driven (since last charge) (km)  1254 non-null   float64\n",
      " 16  Temperature (°C)                          1320 non-null   float64\n",
      " 17  Vehicle Age (years)                       1320 non-null   float64\n",
      " 18  Charger Type                              1320 non-null   object \n",
      " 19  User Type                                 1320 non-null   object \n",
      "dtypes: float64(10), object(10)\n",
      "memory usage: 206.4+ KB\n"
     ]
    },
    {
     "data": {
      "text/html": [
       "<div>\n",
       "<style scoped>\n",
       "    .dataframe tbody tr th:only-of-type {\n",
       "        vertical-align: middle;\n",
       "    }\n",
       "\n",
       "    .dataframe tbody tr th {\n",
       "        vertical-align: top;\n",
       "    }\n",
       "\n",
       "    .dataframe thead th {\n",
       "        text-align: right;\n",
       "    }\n",
       "</style>\n",
       "<table border=\"1\" class=\"dataframe\">\n",
       "  <thead>\n",
       "    <tr style=\"text-align: right;\">\n",
       "      <th></th>\n",
       "      <th>Battery Capacity (kWh)</th>\n",
       "      <th>Energy Consumed (kWh)</th>\n",
       "      <th>Charging Duration (hours)</th>\n",
       "      <th>Charging Rate (kW)</th>\n",
       "      <th>Charging Cost (USD)</th>\n",
       "      <th>State of Charge (Start %)</th>\n",
       "      <th>State of Charge (End %)</th>\n",
       "      <th>Distance Driven (since last charge) (km)</th>\n",
       "      <th>Temperature (°C)</th>\n",
       "      <th>Vehicle Age (years)</th>\n",
       "    </tr>\n",
       "  </thead>\n",
       "  <tbody>\n",
       "    <tr>\n",
       "      <th>count</th>\n",
       "      <td>1320.000000</td>\n",
       "      <td>1254.000000</td>\n",
       "      <td>1320.000000</td>\n",
       "      <td>1254.000000</td>\n",
       "      <td>1320.000000</td>\n",
       "      <td>1320.000000</td>\n",
       "      <td>1320.000000</td>\n",
       "      <td>1254.000000</td>\n",
       "      <td>1320.000000</td>\n",
       "      <td>1320.000000</td>\n",
       "    </tr>\n",
       "    <tr>\n",
       "      <th>mean</th>\n",
       "      <td>74.534692</td>\n",
       "      <td>42.642894</td>\n",
       "      <td>2.269377</td>\n",
       "      <td>25.963003</td>\n",
       "      <td>22.551352</td>\n",
       "      <td>49.130012</td>\n",
       "      <td>75.141590</td>\n",
       "      <td>153.596788</td>\n",
       "      <td>15.263591</td>\n",
       "      <td>3.612843</td>\n",
       "    </tr>\n",
       "    <tr>\n",
       "      <th>std</th>\n",
       "      <td>20.626914</td>\n",
       "      <td>22.411705</td>\n",
       "      <td>1.061037</td>\n",
       "      <td>14.011326</td>\n",
       "      <td>10.751494</td>\n",
       "      <td>24.074134</td>\n",
       "      <td>17.080580</td>\n",
       "      <td>86.004987</td>\n",
       "      <td>14.831216</td>\n",
       "      <td>2.309824</td>\n",
       "    </tr>\n",
       "    <tr>\n",
       "      <th>min</th>\n",
       "      <td>1.532807</td>\n",
       "      <td>0.045772</td>\n",
       "      <td>0.095314</td>\n",
       "      <td>1.472549</td>\n",
       "      <td>0.234317</td>\n",
       "      <td>2.325959</td>\n",
       "      <td>7.604224</td>\n",
       "      <td>0.862361</td>\n",
       "      <td>-10.724770</td>\n",
       "      <td>0.000000</td>\n",
       "    </tr>\n",
       "    <tr>\n",
       "      <th>25%</th>\n",
       "      <td>62.000000</td>\n",
       "      <td>23.881193</td>\n",
       "      <td>1.397623</td>\n",
       "      <td>13.856583</td>\n",
       "      <td>13.368141</td>\n",
       "      <td>27.786903</td>\n",
       "      <td>62.053266</td>\n",
       "      <td>79.445335</td>\n",
       "      <td>2.800664</td>\n",
       "      <td>2.000000</td>\n",
       "    </tr>\n",
       "    <tr>\n",
       "      <th>50%</th>\n",
       "      <td>75.000000</td>\n",
       "      <td>42.691405</td>\n",
       "      <td>2.258136</td>\n",
       "      <td>25.603799</td>\n",
       "      <td>22.076360</td>\n",
       "      <td>48.241771</td>\n",
       "      <td>75.682496</td>\n",
       "      <td>152.259867</td>\n",
       "      <td>14.630846</td>\n",
       "      <td>4.000000</td>\n",
       "    </tr>\n",
       "    <tr>\n",
       "      <th>75%</th>\n",
       "      <td>85.000000</td>\n",
       "      <td>61.206218</td>\n",
       "      <td>3.112806</td>\n",
       "      <td>37.502998</td>\n",
       "      <td>31.646044</td>\n",
       "      <td>69.277921</td>\n",
       "      <td>88.201370</td>\n",
       "      <td>226.073284</td>\n",
       "      <td>27.981810</td>\n",
       "      <td>6.000000</td>\n",
       "    </tr>\n",
       "    <tr>\n",
       "      <th>max</th>\n",
       "      <td>193.003074</td>\n",
       "      <td>152.238758</td>\n",
       "      <td>7.635145</td>\n",
       "      <td>97.342255</td>\n",
       "      <td>69.407743</td>\n",
       "      <td>152.489761</td>\n",
       "      <td>177.708666</td>\n",
       "      <td>398.364775</td>\n",
       "      <td>73.169588</td>\n",
       "      <td>11.688592</td>\n",
       "    </tr>\n",
       "  </tbody>\n",
       "</table>\n",
       "</div>"
      ],
      "text/plain": [
       "       Battery Capacity (kWh)  Energy Consumed (kWh)  \\\n",
       "count             1320.000000            1254.000000   \n",
       "mean                74.534692              42.642894   \n",
       "std                 20.626914              22.411705   \n",
       "min                  1.532807               0.045772   \n",
       "25%                 62.000000              23.881193   \n",
       "50%                 75.000000              42.691405   \n",
       "75%                 85.000000              61.206218   \n",
       "max                193.003074             152.238758   \n",
       "\n",
       "       Charging Duration (hours)  Charging Rate (kW)  Charging Cost (USD)  \\\n",
       "count                1320.000000         1254.000000          1320.000000   \n",
       "mean                    2.269377           25.963003            22.551352   \n",
       "std                     1.061037           14.011326            10.751494   \n",
       "min                     0.095314            1.472549             0.234317   \n",
       "25%                     1.397623           13.856583            13.368141   \n",
       "50%                     2.258136           25.603799            22.076360   \n",
       "75%                     3.112806           37.502998            31.646044   \n",
       "max                     7.635145           97.342255            69.407743   \n",
       "\n",
       "       State of Charge (Start %)  State of Charge (End %)  \\\n",
       "count                1320.000000              1320.000000   \n",
       "mean                   49.130012                75.141590   \n",
       "std                    24.074134                17.080580   \n",
       "min                     2.325959                 7.604224   \n",
       "25%                    27.786903                62.053266   \n",
       "50%                    48.241771                75.682496   \n",
       "75%                    69.277921                88.201370   \n",
       "max                   152.489761               177.708666   \n",
       "\n",
       "       Distance Driven (since last charge) (km)  Temperature (°C)  \\\n",
       "count                               1254.000000       1320.000000   \n",
       "mean                                 153.596788         15.263591   \n",
       "std                                   86.004987         14.831216   \n",
       "min                                    0.862361        -10.724770   \n",
       "25%                                   79.445335          2.800664   \n",
       "50%                                  152.259867         14.630846   \n",
       "75%                                  226.073284         27.981810   \n",
       "max                                  398.364775         73.169588   \n",
       "\n",
       "       Vehicle Age (years)  \n",
       "count          1320.000000  \n",
       "mean              3.612843  \n",
       "std               2.309824  \n",
       "min               0.000000  \n",
       "25%               2.000000  \n",
       "50%               4.000000  \n",
       "75%               6.000000  \n",
       "max              11.688592  "
      ]
     },
     "execution_count": 15,
     "metadata": {},
     "output_type": "execute_result"
    }
   ],
   "source": [
    "# Load the dataset\n",
    "df = pd.read_csv('ev_charging_patterns.csv')\n",
    "\n",
    "# Display the first few rows\n",
    "df.head()\n",
    "# Check data types and missing values\n",
    "df.info()\n",
    "df.isnull().sum()\n",
    "# Statistical summary\n",
    "df.describe()\n"
   ]
  },
  {
   "cell_type": "code",
   "execution_count": 16,
   "id": "bcdac7dc",
   "metadata": {},
   "outputs": [],
   "source": [
    "# Convert 'Charging Start Time' to datetime\n",
    "df['Charging Start Time'] = pd.to_datetime(df['Charging Start Time'])\n",
    "\n",
    "# Extract temporal features\n",
    "df['hour'] = df['Charging Start Time'].dt.hour\n",
    "df['day_of_week'] = df['Charging Start Time'].dt.dayofweek\n",
    "df['is_weekend'] = df['day_of_week'].apply(lambda x: 1 if x >= 5 else 0)\n",
    "\n",
    "# Calculate charging duration in hours\n",
    "df['Charging End Time'] = pd.to_datetime(df['Charging End Time'])\n",
    "df['Charging Duration'] = (df['Charging End Time'] - df['Charging Start Time']).dt.total_seconds() / 3600\n",
    "\n",
    "# Drop original datetime columns\n",
    "df.drop(['Charging Start Time', 'Charging End Time'], axis=1, inplace=True)\n"
   ]
  },
  {
   "cell_type": "code",
   "execution_count": 17,
   "id": "92b4a261",
   "metadata": {},
   "outputs": [],
   "source": [
    "# Identify numerical columns\n",
    "numerical_cols = df.select_dtypes(include=['float64', 'int64']).columns\n",
    "\n",
    "# Impute missing values using KNNImputer\n",
    "imputer = KNNImputer()\n",
    "df[numerical_cols] = imputer.fit_transform(df[numerical_cols])\n"
   ]
  },
  {
   "cell_type": "code",
   "execution_count": 18,
   "id": "63323f21",
   "metadata": {},
   "outputs": [],
   "source": [
    "# Identify categorical columns\n",
    "categorical_cols = df.select_dtypes(include=['object']).columns.tolist()\n",
    "categorical_cols.remove('User Type')  # Exclude target variable\n",
    "\n",
    "# Apply Target Encoding to categorical variables\n",
    "encoder = TargetEncoder()\n",
    "df[categorical_cols] = encoder.fit_transform(df[categorical_cols], df['User Type'])\n"
   ]
  },
  {
   "cell_type": "code",
   "execution_count": 19,
   "id": "9aa63bf2",
   "metadata": {},
   "outputs": [],
   "source": [
    "# Define features and target\n",
    "X = df.drop('User Type', axis=1)\n",
    "y = df['User Type']\n",
    "\n",
    "# Scale numerical features\n",
    "scaler = StandardScaler()\n",
    "X[numerical_cols] = scaler.fit_transform(X[numerical_cols])\n"
   ]
  },
  {
   "cell_type": "code",
   "execution_count": 20,
   "id": "f42805a8",
   "metadata": {},
   "outputs": [],
   "source": [
    "# Apply SMOTE to balance classes\n",
    "smote = SMOTE(random_state=42)\n",
    "X_resampled, y_resampled = smote.fit_resample(X, y)\n"
   ]
  },
  {
   "cell_type": "code",
   "execution_count": 21,
   "id": "8e6d3aca",
   "metadata": {},
   "outputs": [],
   "source": [
    "# Split into training and testing sets\n",
    "X_train, X_test, y_train, y_test = train_test_split(\n",
    "    X_resampled, y_resampled, test_size=0.2, random_state=42, stratify=y_resampled\n",
    ")\n"
   ]
  },
  {
   "cell_type": "code",
   "execution_count": 22,
   "id": "1343f4fc",
   "metadata": {},
   "outputs": [
    {
     "name": "stdout",
     "output_type": "stream",
     "text": [
      "Logistic Regression CV F1-score: 0.9788\n",
      "Logistic Regression Classification Report:\n",
      "                        precision    recall  f1-score   support\n",
      "\n",
      "         Casual Driver       0.99      1.00      0.99        95\n",
      "              Commuter       1.00      0.98      0.99        95\n",
      "Long-Distance Traveler       0.99      1.00      0.99        96\n",
      "\n",
      "              accuracy                           0.99       286\n",
      "             macro avg       0.99      0.99      0.99       286\n",
      "          weighted avg       0.99      0.99      0.99       286\n",
      "\n"
     ]
    }
   ],
   "source": [
    "# Initialize Logistic Regression model\n",
    "log_reg = LogisticRegression(max_iter=1000, random_state=42)\n",
    "\n",
    "# Cross-validation\n",
    "cv = StratifiedKFold(n_splits=5, shuffle=True, random_state=42)\n",
    "cv_scores = cross_val_score(log_reg, X_train, y_train, cv=cv, scoring='f1_macro')\n",
    "print(f\"Logistic Regression CV F1-score: {cv_scores.mean():.4f}\")\n",
    "\n",
    "# Train the model\n",
    "log_reg.fit(X_train, y_train)\n",
    "\n",
    "# Predictions\n",
    "y_pred_lr = log_reg.predict(X_test)\n",
    "\n",
    "# Evaluation\n",
    "print(\"Logistic Regression Classification Report:\")\n",
    "print(classification_report(y_test, y_pred_lr))\n"
   ]
  },
  {
   "cell_type": "code",
   "execution_count": 23,
   "id": "e3b2d556",
   "metadata": {},
   "outputs": [
    {
     "name": "stdout",
     "output_type": "stream",
     "text": [
      "CatBoost CV F1-score: 1.0000\n",
      "CatBoost Classification Report:\n",
      "                        precision    recall  f1-score   support\n",
      "\n",
      "         Casual Driver       1.00      1.00      1.00        95\n",
      "              Commuter       1.00      1.00      1.00        95\n",
      "Long-Distance Traveler       1.00      1.00      1.00        96\n",
      "\n",
      "              accuracy                           1.00       286\n",
      "             macro avg       1.00      1.00      1.00       286\n",
      "          weighted avg       1.00      1.00      1.00       286\n",
      "\n"
     ]
    }
   ],
   "source": [
    "# Initialize CatBoost model\n",
    "catboost_model = CatBoostClassifier(verbose=0, random_state=42)\n",
    "\n",
    "# Cross-validation\n",
    "cv_scores_cb = cross_val_score(catboost_model, X_train, y_train, cv=cv, scoring='f1_macro')\n",
    "print(f\"CatBoost CV F1-score: {cv_scores_cb.mean():.4f}\")\n",
    "\n",
    "# Train the model\n",
    "catboost_model.fit(X_train, y_train)\n",
    "\n",
    "# Predictions\n",
    "y_pred_cb = catboost_model.predict(X_test)\n",
    "\n",
    "# Evaluation\n",
    "print(\"CatBoost Classification Report:\")\n",
    "print(classification_report(y_test, y_pred_cb))\n"
   ]
  },
  {
   "cell_type": "code",
   "execution_count": 24,
   "id": "86799d61",
   "metadata": {},
   "outputs": [
    {
     "name": "stdout",
     "output_type": "stream",
     "text": [
      "🔎 Best parameters for Logistic Regression: {'model__C': 0.01, 'model__penalty': 'l1', 'model__solver': 'liblinear'}\n",
      "✅ Best F1 score from GridSearchCV (Logistic): 1.0\n"
     ]
    }
   ],
   "source": [
    "from sklearn.model_selection import GridSearchCV\n",
    "\n",
    "# Thiết lập pipeline có scaling và logistic regression\n",
    "from sklearn.pipeline import Pipeline\n",
    "\n",
    "logistic_pipeline = Pipeline(steps=[\n",
    "    ('scaler', StandardScaler()),\n",
    "    ('model', LogisticRegression(max_iter=1000, random_state=42))\n",
    "])\n",
    "\n",
    "# GridSearchCV với các giá trị penalty và C (L1/L2 + regularization strength)\n",
    "param_grid_lr = {\n",
    "    'model__penalty': ['l1', 'l2'],\n",
    "    'model__C': [0.01, 0.1, 1, 10],\n",
    "    'model__solver': ['liblinear']  # cần dùng solver này khi penalty là 'l1'\n",
    "}\n",
    "\n",
    "grid_lr = GridSearchCV(\n",
    "    logistic_pipeline,\n",
    "    param_grid=param_grid_lr,\n",
    "    cv=5,\n",
    "    scoring='f1_macro',\n",
    "    n_jobs=-1\n",
    ")\n",
    "\n",
    "grid_lr.fit(X_train, y_train)\n",
    "\n",
    "print(\"🔎 Best parameters for Logistic Regression:\", grid_lr.best_params_)\n",
    "print(\"✅ Best F1 score from GridSearchCV (Logistic):\", grid_lr.best_score_)\n"
   ]
  },
  {
   "cell_type": "code",
   "execution_count": 25,
   "id": "9a64934c",
   "metadata": {},
   "outputs": [
    {
     "name": "stderr",
     "output_type": "stream",
     "text": [
      "[I 2025-04-11 22:29:03,549] A new study created in memory with name: no-name-5057dc66-3c18-4d91-957b-1e892b89d2fa\n",
      "[I 2025-04-11 22:29:28,090] Trial 0 finished with value: 1.0 and parameters: {'depth': 7, 'learning_rate': 0.029313789284660444, 'l2_leaf_reg': 0.020386744564440496, 'iterations': 106}. Best is trial 0 with value: 1.0.\n",
      "[I 2025-04-11 22:29:33,552] Trial 1 finished with value: 1.0 and parameters: {'depth': 4, 'learning_rate': 0.08251534955296942, 'l2_leaf_reg': 3.8977466034456896, 'iterations': 198}. Best is trial 0 with value: 1.0.\n",
      "[I 2025-04-11 22:30:03,306] Trial 2 finished with value: 1.0 and parameters: {'depth': 8, 'learning_rate': 0.051403979761080916, 'l2_leaf_reg': 0.08458896649760128, 'iterations': 117}. Best is trial 0 with value: 1.0.\n",
      "[I 2025-04-11 22:31:54,158] Trial 3 finished with value: 1.0 and parameters: {'depth': 8, 'learning_rate': 0.018383803241085774, 'l2_leaf_reg': 0.31969233018612403, 'iterations': 449}. Best is trial 0 with value: 1.0.\n",
      "[I 2025-04-11 22:34:07,801] Trial 4 finished with value: 1.0 and parameters: {'depth': 7, 'learning_rate': 0.12991430325813683, 'l2_leaf_reg': 0.12382583900748484, 'iterations': 494}. Best is trial 0 with value: 1.0.\n",
      "[I 2025-04-11 22:36:45,726] Trial 5 finished with value: 1.0 and parameters: {'depth': 8, 'learning_rate': 0.05193703630063273, 'l2_leaf_reg': 0.0018026488450150159, 'iterations': 411}. Best is trial 0 with value: 1.0.\n",
      "[I 2025-04-11 22:43:08,239] Trial 6 finished with value: 1.0 and parameters: {'depth': 10, 'learning_rate': 0.03768901363518666, 'l2_leaf_reg': 0.0080580172226363, 'iterations': 399}. Best is trial 0 with value: 1.0.\n"
     ]
    },
    {
     "name": "stdout",
     "output_type": "stream",
     "text": [
      "🔎 Best parameters for CatBoost: {'depth': 7, 'learning_rate': 0.029313789284660444, 'l2_leaf_reg': 0.020386744564440496, 'iterations': 106}\n",
      "✅ Best F1 score from Optuna (CatBoost): 1.0\n"
     ]
    },
    {
     "data": {
      "text/plain": [
       "<catboost.core.CatBoostClassifier at 0x257558b1fa0>"
      ]
     },
     "execution_count": 25,
     "metadata": {},
     "output_type": "execute_result"
    }
   ],
   "source": [
    "import optuna\n",
    "\n",
    "def objective(trial):\n",
    "    params = {\n",
    "        'depth': trial.suggest_int('depth', 4, 10),\n",
    "        'learning_rate': trial.suggest_float('learning_rate', 0.01, 0.3, log=True),\n",
    "        'l2_leaf_reg': trial.suggest_float('l2_leaf_reg', 1e-3, 10.0, log=True),\n",
    "        'iterations': trial.suggest_int('iterations', 100, 500),\n",
    "        'random_state': 42,\n",
    "        'verbose': 0\n",
    "    }\n",
    "    \n",
    "    model = CatBoostClassifier(**params)\n",
    "    score = cross_val_score(model, X_train, y_train, cv=5, scoring='f1_macro').mean()\n",
    "    return score\n",
    "\n",
    "study = optuna.create_study(direction='maximize')\n",
    "study.optimize(objective, n_trials=20, timeout=600)\n",
    "\n",
    "print(\"🔎 Best parameters for CatBoost:\", study.best_params)\n",
    "print(\"✅ Best F1 score from Optuna (CatBoost):\", study.best_value)\n",
    "\n",
    "# Huấn luyện mô hình tốt nhất\n",
    "best_catboost = CatBoostClassifier(**study.best_params, random_state=42, verbose=0)\n",
    "best_catboost.fit(X_train, y_train)\n"
   ]
  },
  {
   "cell_type": "code",
   "execution_count": 29,
   "id": "af301d34",
   "metadata": {},
   "outputs": [
    {
     "data": {
      "text/plain": [
       "<Figure size 640x480 with 0 Axes>"
      ]
     },
     "metadata": {},
     "output_type": "display_data"
    },
    {
     "data": {
      "image/png": "[encoded data removed]",
      "text/plain": [
       "<Figure size 1150x660 with 1 Axes>"
      ]
     },
     "metadata": {},
     "output_type": "display_data"
    }
   ],
   "source": [
    "# SHAP analysis for Logistic Regression\n",
    "explainer_lr = shap.LinearExplainer(log_reg, X_train, feature_perturbation=\"interventional\")\n",
    "shap_values_lr = explainer_lr.shap_values(X_test)\n",
    "\n",
    "# Plot SHAP summary\n",
    "shap.summary_plot(shap_values_lr, X_test, feature_names=X.columns)\n"
   ]
  },
  {
   "cell_type": "code",
   "execution_count": 27,
   "id": "cde48491",
   "metadata": {},
   "outputs": [
    {
     "data": {
      "image/png": "[encoded data removed]",
      "text/plain": [
       "<Figure size 640x480 with 1 Axes>"
      ]
     },
     "metadata": {},
     "output_type": "display_data"
    }
   ],
   "source": [
    "# Feature importance from CatBoost\n",
    "importances = catboost_model.get_feature_importance()\n",
    "feature_importances = pd.DataFrame({'Feature': X.columns, 'Importance': importances})\n",
    "\n",
    "# Plot\n",
    "sns.barplot(data=feature_importances.sort_values(by='Importance', ascending=False), x='Importance', y='Feature')\n",
    "plt.title('Feature Importances from CatBoost')\n",
    "plt.show()\n"
   ]
  },
  {
   "cell_type": "code",
   "execution_count": 28,
   "id": "0d00511f",
   "metadata": {},
   "outputs": [
    {
     "name": "stdout",
     "output_type": "stream",
     "text": [
      "Logistic Regression F1-score: 0.9930\n",
      "CatBoost F1-score: 1.0000\n"
     ]
    },
    {
     "data": {
      "text/plain": [
       "['best_ev_charging_model.pkl']"
      ]
     },
     "execution_count": 28,
     "metadata": {},
     "output_type": "execute_result"
    }
   ],
   "source": [
    "# Compare F1-scores\n",
    "f1_lr = f1_score(y_test, y_pred_lr, average='macro')\n",
    "f1_cb = f1_score(y_test, y_pred_cb, average='macro')\n",
    "\n",
    "print(f\"Logistic Regression F1-score: {f1_lr:.4f}\")\n",
    "print(f\"CatBoost F1-score: {f1_cb:.4f}\")\n",
    "\n",
    "# Select the best model\n",
    "best_model = log_reg if f1_lr >= f1_cb else catboost_model\n",
    "\n",
    "# Save the best model\n",
    "import joblib\n",
    "joblib.dump(best_model, 'best_ev_charging_model.pkl')\n"
   ]
  }
 ],
 "metadata": {
  "kernelspec": {
   "display_name": "gis",
   "language": "python",
   "name": "python3"
  },
  "language_info": {
   "codemirror_mode": {
    "name": "ipython",
    "version": 3
   },
   "file_extension": ".py",
   "mimetype": "text/x-python",
   "name": "python",
   "nbconvert_exporter": "python",
   "pygments_lexer": "ipython3",
   "version": "3.12.9"
  }
 },
 "nbformat": 4,
 "nbformat_minor": 5
}
